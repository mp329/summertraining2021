{
 "cells": [
  {
   "cell_type": "markdown",
   "metadata": {},
   "source": [
    "# SERVER"
   ]
  },
  {
   "cell_type": "code",
   "execution_count": null,
   "metadata": {},
   "outputs": [
    {
     "name": "stdout",
     "output_type": "stream",
     "text": [
      "Server is waiting....\n"
     ]
    }
   ],
   "source": [
    "import cv2\n",
    "import socket\n",
    "\n",
    "server_socket  = socket.socket(socket.AF_INET , socket.SOCK_STREAM)    \n",
    "IP = \"<ip_address>\"\n",
    "PORT = 8888\n",
    "server_socket.bind((IP,PORT)) \n",
    "server_socket.listen()\n",
    "print(\"Server is waiting....\")\n",
    "\n",
    "client_socket, client_addr = server_socket.accept()\n",
    "print(\"Connected to IP address \"+str(client_addr))\n",
    "\n",
    "while True:\n",
    "    \n",
    "    file = open(\"IMAGE_SERVER.jpg\",\"wb\")         \n",
    "    img_pixl = client_socket.recv(2048000)                                                          \n",
    "    if img_pixl:                                 \n",
    "        file.write(img_pixl)                     \n",
    "        photo = cv2.imread(\"IMAGE_SERVER.jpg\")  \n",
    "        cv2.imshow(\"Server\",photo)              \n",
    "        if cv2.waitKey(1)==13:\n",
    "            break\n",
    "    else:                                \n",
    "        print(\"Client disconnected!!\")           \n",
    "        break                                   \n",
    "        \n",
    "cv2.destroyAllWindows()\n",
    "client_socket.close()\n",
    "file.close()   "
   ]
  },
  {
   "cell_type": "code",
   "execution_count": null,
   "metadata": {},
   "outputs": [],
   "source": []
  }
 ],
 "metadata": {
  "kernelspec": {
   "display_name": "Python 3",
   "language": "python",
   "name": "python3"
  },
  "language_info": {
   "codemirror_mode": {
    "name": "ipython",
    "version": 3
   },
   "file_extension": ".py",
   "mimetype": "text/x-python",
   "name": "python",
   "nbconvert_exporter": "python",
   "pygments_lexer": "ipython3",
   "version": "3.8.8"
  }
 },
 "nbformat": 4,
 "nbformat_minor": 4
}
