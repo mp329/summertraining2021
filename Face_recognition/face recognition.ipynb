{
 "cells": [
  {
   "cell_type": "code",
   "execution_count": null,
   "id": "23f72422",
   "metadata": {},
   "outputs": [],
   "source": [
    "# pip install opencv-contrib-python --user\n",
    "# pip install pywhatkit\n",
    "import cv2\n",
    "import numpy as np\n",
    "from os import listdir\n",
    "from os.path import isfile, join\n",
    "import os\n",
    "import smtplib as s\n",
    "import pywhatkit\n",
    "import subprocess\n",
    "import time"
   ]
  },
  {
   "cell_type": "code",
   "execution_count": null,
   "id": "f9ac29e5",
   "metadata": {},
   "outputs": [],
   "source": [
    "face_classifier = cv2.CascadeClassifier('haarcascade_frontalface_default.xml')\n",
    "\n",
    "def face_extractor(img):\n",
    "    \n",
    "    gray = cv2.cvtColor(img,cv2.COLOR_BGR2GRAY)\n",
    "    faces = face_classifier.detectMultiScale(gray, 1.3, 5)\n",
    "    \n",
    "    if faces is ():\n",
    "        return None\n",
    "    \n",
    "    for (x,y,w,h) in faces:\n",
    "        cropped_face = img[y:y+h, x:x+w]\n",
    "    return cropped_face"
   ]
  },
  {
   "cell_type": "code",
   "execution_count": null,
   "id": "363fa118",
   "metadata": {},
   "outputs": [],
   "source": [
    "cap = cv2.VideoCapture(0)\n",
    "count = 0"
   ]
  },
  {
   "cell_type": "code",
   "execution_count": null,
   "id": "c397858c",
   "metadata": {},
   "outputs": [],
   "source": [
    "while True:\n",
    "\n",
    "    ret, frame = cap.read()\n",
    "    if face_extractor(frame) is not None:\n",
    "        count += 1\n",
    "        face = cv2.resize(face_extractor(frame), (200, 200))\n",
    "        face = cv2.cvtColor(face, cv2.COLOR_BGR2GRAY)\n",
    "\n",
    "        file_name_path = 'C:/Users/Mukul/Desktop/summertraining/CV/faces_cv/2/' + str(count) + '.jpg'\n",
    "        cv2.imwrite(file_name_path, face)\n",
    "\n",
    "        cv2.putText(face, str(count), (50, 50), cv2.FONT_HERSHEY_COMPLEX, 1, (0,255,0), 2)\n",
    "        cv2.imshow('Face', face)\n",
    "    else:\n",
    "        print(\"Face not found\")\n",
    "        pass\n",
    "\n",
    "    if cv2.waitKey(1) == 13 or count == 100: \n",
    "        break\n",
    "        \n",
    "cap.release()\n",
    "cv2.destroyAllWindows()      \n",
    "print(\"Done!\")"
   ]
  },
  {
   "cell_type": "code",
   "execution_count": null,
   "id": "7c2d6f70",
   "metadata": {},
   "outputs": [],
   "source": [
    "count = 1\n",
    "model = []\n",
    "while True:\n",
    "    data_path = 'C:/Users/Mukul/Desktop/summertraining/CV/faces_cv/'+str(count)+'/'\n",
    "    onlyfiles = [f for f in listdir(data_path) if isfile(join(data_path, f))]\n",
    "    Training_Data, Labels = [], []\n",
    "\n",
    "    for i, files in enumerate(onlyfiles):\n",
    "        image_path = data_path + onlyfiles[i]\n",
    "        images = cv2.imread(image_path, cv2.IMREAD_GRAYSCALE)\n",
    "        Training_Data.append(np.asarray(images, dtype=np.uint8))\n",
    "        Labels.append(i)\n",
    "    \n",
    "    Labels = np.asarray(Labels, dtype=np.int32)\n",
    "\n",
    "    model.append(cv2.face_LBPHFaceRecognizer.create())\n",
    "\n",
    "    model[count-1].train(np.asarray(Training_Data), np.asarray(Labels))\n",
    "    print(\"Model_\"+str(count)+ \" trained sucessefully\")\n",
    "    count = count +1\n",
    "    if(count > 2):\n",
    "        break"
   ]
  },
  {
   "cell_type": "code",
   "execution_count": null,
   "id": "fb8610fe",
   "metadata": {},
   "outputs": [],
   "source": [
    "Name = [\"Hritik\",\"Criss\"]"
   ]
  },
  {
   "cell_type": "code",
   "execution_count": null,
   "id": "3dd758f2",
   "metadata": {},
   "outputs": [],
   "source": [
    "def get_confidence(results):\n",
    "    confidence=[]\n",
    "    for i in range(0,2):\n",
    "        if results[i][1] < 500:\n",
    "            confidence.append(int( 100 * (1 - (results[i][1])/400) )) \n",
    "    \n",
    "    for i in range(0,2):\n",
    "        if confidence[0]>88:\n",
    "            display_string = str(confidence[i]) + '% Confident it is '+Name[0]\n",
    "            cv2.putText(image, display_string, (100, 400), cv2.FONT_HERSHEY_COMPLEX, 1, (255,120,150), 2)\n",
    "            cv2.putText(image, \"Hey \"+Name[0], (50, 50), cv2.FONT_HERSHEY_COMPLEX, 1, (0,255,0), 2)\n",
    "            cv2.imshow('Face Recognition', image )\n",
    "            time.sleep(5)\n",
    "            send_email()\n",
    "            do_whatsapp()\n",
    "            break\n",
    "        elif confidence[1]>82:\n",
    "            display_string = str(confidence[i]) + '% Confident it is '+Name[1]\n",
    "            cv2.putText(image, display_string, (100, 400), cv2.FONT_HERSHEY_COMPLEX, 1, (255,120,150), 2)\n",
    "            cv2.putText(image, \"Hey \"+Name[1], (50, 50), cv2.FONT_HERSHEY_COMPLEX, 1, (0,255,0), 2)\n",
    "            cv2.imshow('Face Recognition', image )\n",
    "            time.sleep(5)\n",
    "            create_aws()\n",
    "            time.sleep(3)\n",
    "            break\n",
    "    else:\n",
    "        cv2.imshow('Face Recognition', image )"
   ]
  },
  {
   "cell_type": "code",
   "execution_count": null,
   "id": "f7147ef4",
   "metadata": {},
   "outputs": [],
   "source": [
    "def send_email():\n",
    "    file = open(\"password.txt\")\n",
    "    password = file.read()\n",
    "    e = s.SMTP(\"smtp.gmail.com\", 587)\n",
    "    e.starttls()\n",
    "    e.login(\"mukulpramanik48@gmail.com\", password)\n",
    "    subject = \"OpenCV email\"\n",
    "    body = \"This mail is for testing purpose.\"\n",
    "    message = \"Subject:{}\\n\\n{}\".format(subject,body)\n",
    "    email_list = [\"mukulpramanik329@outlook.com\"]\n",
    "    e.sendmail(\"mukulpramanik48@gmail.com\", email_list, message)\n",
    "    print(\"Email send successfully...\")\n",
    "    e.quit()"
   ]
  },
  {
   "cell_type": "code",
   "execution_count": null,
   "id": "19843329",
   "metadata": {},
   "outputs": [],
   "source": [
    "def do_whatsapp():\n",
    "    file = open(\"phone_no.txt\")\n",
    "    phone_no = file.read()\n",
    "    pywhatkit.sendwhatmsg_instantly(phone_no,\"hey\")\n",
    "    print(\"Whatsapp message send successfully...\")"
   ]
  },
  {
   "cell_type": "code",
   "execution_count": null,
   "id": "2f668b18",
   "metadata": {},
   "outputs": [],
   "source": [
    "def create_aws():\n",
    "    awsec2 = open(\"awsec2_cli.txt\")\n",
    "    instance_id = subprocess.getoutput(awsec2.read())\n",
    "    print(\"Instance created\\nInstance ID: \", instance_id)\n",
    "    awsebs = open(\"awsebs_cli.txt\")\n",
    "    volume_id = subprocess.getoutput(awsebs.read())\n",
    "    print(\"Volume created\\nVolume ID: \", volume_id)\n",
    "    time.sleep(20)\n",
    "    subprocess.getoutput(\"aws ec2 attach-volume --volume-id {} --instance-id {} --dev /dev/sdf\".format(volume_id, instance_id))\n",
    "    print(\"Volume successfully attached....\")"
   ]
  },
  {
   "cell_type": "code",
   "execution_count": null,
   "id": "acad79eb",
   "metadata": {},
   "outputs": [],
   "source": [
    "face_classifier = cv2.CascadeClassifier('haarcascade_frontalface_default.xml')\n",
    "\n",
    "def face_detector(img, size=0.5):\n",
    "    \n",
    "    gray = cv2.cvtColor(img,cv2.COLOR_BGR2GRAY)\n",
    "    faces = face_classifier.detectMultiScale(gray, 1.3, 5)\n",
    "    if faces is ():\n",
    "        return img, []\n",
    "    \n",
    "    \n",
    "    for (x,y,w,h) in faces:\n",
    "        cv2.rectangle(img,(x,y),(x+w,y+h),(0,255,255),2)\n",
    "        roi = img[y:y+h, x:x+w]\n",
    "        roi = cv2.resize(roi, (200, 200))\n",
    "    return img, roi\n",
    "\n",
    "\n",
    "cap = cv2.VideoCapture(0)\n",
    "\n",
    "while True:\n",
    "\n",
    "    ret, frame = cap.read()\n",
    "    \n",
    "    image, face = face_detector(frame)\n",
    "    \n",
    "    try:\n",
    "        face = cv2.cvtColor(face, cv2.COLOR_BGR2GRAY)\n",
    "\n",
    "        results = []\n",
    "        \n",
    "        for i in range(0,2):\n",
    "            if i == 0:\n",
    "                results.append(model[i].predict(face))\n",
    "            elif i == 1:\n",
    "                results.append(model[i].predict(face))\n",
    "        get_confidence(results)\n",
    "\n",
    "    except:\n",
    "        cv2.putText(image, \"No Face Found\", (220, 120) , cv2.FONT_HERSHEY_COMPLEX, 1, (0,0,255), 2)\n",
    "        cv2.imshow('Face Recognition', image )\n",
    "        pass\n",
    "        \n",
    "    if cv2.waitKey(1) == 13:\n",
    "        break\n",
    "        \n",
    "cap.release()\n",
    "cv2.destroyAllWindows()"
   ]
  },
  {
   "cell_type": "code",
   "execution_count": null,
   "id": "09548c7c",
   "metadata": {},
   "outputs": [],
   "source": [
    "\n"
   ]
  },
  {
   "cell_type": "code",
   "execution_count": null,
   "id": "fa7a3428",
   "metadata": {},
   "outputs": [],
   "source": []
  }
 ],
 "metadata": {
  "kernelspec": {
   "display_name": "Python 3",
   "language": "python",
   "name": "python3"
  },
  "language_info": {
   "codemirror_mode": {
    "name": "ipython",
    "version": 3
   },
   "file_extension": ".py",
   "mimetype": "text/x-python",
   "name": "python",
   "nbconvert_exporter": "python",
   "pygments_lexer": "ipython3",
   "version": "3.8.8"
  }
 },
 "nbformat": 4,
 "nbformat_minor": 5
}
