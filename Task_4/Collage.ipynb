{
 "cells": [
  {
   "cell_type": "code",
   "execution_count": 1,
   "id": "854f65f0",
   "metadata": {},
   "outputs": [],
   "source": [
    "import cv2"
   ]
  },
  {
   "cell_type": "code",
   "execution_count": 2,
   "id": "1dbf4763",
   "metadata": {},
   "outputs": [],
   "source": [
    "import numpy"
   ]
  },
  {
   "cell_type": "code",
   "execution_count": 3,
   "id": "13885ebe",
   "metadata": {},
   "outputs": [],
   "source": [
    "pic1 = cv2.resize(cv2.imread('pic1.jpg'), (350,400))"
   ]
  },
  {
   "cell_type": "code",
   "execution_count": 4,
   "id": "5357a70a",
   "metadata": {},
   "outputs": [],
   "source": [
    "pic2 = cv2.resize(cv2.imread('pic2.jpg'), (350,400))"
   ]
  },
  {
   "cell_type": "code",
   "execution_count": 5,
   "id": "eaf4fefc",
   "metadata": {},
   "outputs": [],
   "source": [
    "pic3 = cv2.resize(cv2.imread('pic3.jpg'), (350,400))"
   ]
  },
  {
   "cell_type": "code",
   "execution_count": 6,
   "id": "8f975c23",
   "metadata": {},
   "outputs": [],
   "source": [
    "pic4 = cv2.resize(cv2.imread('pic4.jpg'), (350,400))"
   ]
  },
  {
   "cell_type": "code",
   "execution_count": 7,
   "id": "11a93adf",
   "metadata": {},
   "outputs": [
    {
     "data": {
      "text/plain": [
       "<function destroyAllWindows>"
      ]
     },
     "execution_count": 7,
     "metadata": {},
     "output_type": "execute_result"
    }
   ],
   "source": [
    "collage1 = numpy.hstack((pic1, pic2))\n",
    "cv2.imshow('collage1', collage1)\n",
    "cv2.waitKey()\n",
    "cv2.destroyAllWindows"
   ]
  },
  {
   "cell_type": "code",
   "execution_count": 8,
   "id": "99e79947",
   "metadata": {},
   "outputs": [
    {
     "data": {
      "text/plain": [
       "<function destroyAllWindows>"
      ]
     },
     "execution_count": 8,
     "metadata": {},
     "output_type": "execute_result"
    }
   ],
   "source": [
    "collage2 = numpy.hstack((pic3, pic4))\n",
    "cv2.imshow('collage2', collage2)\n",
    "cv2.waitKey()\n",
    "cv2.destroyAllWindows"
   ]
  },
  {
   "cell_type": "code",
   "execution_count": 9,
   "id": "d2ca2aff",
   "metadata": {},
   "outputs": [
    {
     "data": {
      "text/plain": [
       "<function destroyAllWindows>"
      ]
     },
     "execution_count": 9,
     "metadata": {},
     "output_type": "execute_result"
    }
   ],
   "source": [
    "collage = numpy.vstack((collage1, collage2))\n",
    "cv2.imshow('collage', collage)\n",
    "cv2.waitKey()\n",
    "cv2.destroyAllWindows"
   ]
  },
  {
   "cell_type": "code",
   "execution_count": null,
   "id": "d32e7f93",
   "metadata": {},
   "outputs": [],
   "source": []
  }
 ],
 "metadata": {
  "kernelspec": {
   "display_name": "Python 3",
   "language": "python",
   "name": "python3"
  },
  "language_info": {
   "codemirror_mode": {
    "name": "ipython",
    "version": 3
   },
   "file_extension": ".py",
   "mimetype": "text/x-python",
   "name": "python",
   "nbconvert_exporter": "python",
   "pygments_lexer": "ipython3",
   "version": "3.8.8"
  }
 },
 "nbformat": 4,
 "nbformat_minor": 5
}
