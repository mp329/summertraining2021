{
 "cells": [
  {
   "cell_type": "code",
   "execution_count": 1,
   "id": "82736dc8",
   "metadata": {},
   "outputs": [],
   "source": [
    "import cv2\n",
    "import numpy"
   ]
  },
  {
   "cell_type": "code",
   "execution_count": 2,
   "id": "b460b259",
   "metadata": {},
   "outputs": [],
   "source": [
    "YR = cv2.resize(cv2.imread('pic5.jpg'), (400,400))"
   ]
  },
  {
   "cell_type": "code",
   "execution_count": 3,
   "id": "b15ae0f9",
   "metadata": {},
   "outputs": [
    {
     "data": {
      "text/plain": [
       "(400, 400, 3)"
      ]
     },
     "execution_count": 3,
     "metadata": {},
     "output_type": "execute_result"
    }
   ],
   "source": [
    "YR.shape"
   ]
  },
  {
   "cell_type": "code",
   "execution_count": 4,
   "id": "ca4e4f55",
   "metadata": {},
   "outputs": [],
   "source": [
    "GB = cv2.resize(cv2.imread('pic6.jpg'), (400,400))"
   ]
  },
  {
   "cell_type": "code",
   "execution_count": 5,
   "id": "8fba1e0c",
   "metadata": {},
   "outputs": [
    {
     "data": {
      "text/plain": [
       "(400, 400, 3)"
      ]
     },
     "execution_count": 5,
     "metadata": {},
     "output_type": "execute_result"
    }
   ],
   "source": [
    "GB.shape"
   ]
  },
  {
   "cell_type": "code",
   "execution_count": 6,
   "id": "a9007686",
   "metadata": {},
   "outputs": [],
   "source": [
    "collage1 = numpy.hstack((YR, GB))\n",
    "cv2.imshow('YR_GB', collage1)\n",
    "cv2.waitKey()\n",
    "cv2.destroyAllWindows()"
   ]
  },
  {
   "cell_type": "code",
   "execution_count": 7,
   "id": "8a7ce0d7",
   "metadata": {},
   "outputs": [],
   "source": [
    "R = YR[150:250,140:250]\n",
    "GB[150:250,140:250] = R\n",
    "cv2.imshow('GR', GB)\n",
    "cv2.waitKey()\n",
    "cv2.destroyAllWindows()"
   ]
  },
  {
   "cell_type": "code",
   "execution_count": 8,
   "id": "414ebd56",
   "metadata": {},
   "outputs": [],
   "source": [
    "GB = cv2.resize(cv2.imread('pic6.jpg'), (400,400))\n",
    "B = GB[150:250,140:250]\n",
    "YR[150:250,140:250] = B\n",
    "cv2.imshow('YB', YR)\n",
    "cv2.waitKey()\n",
    "cv2.destroyAllWindows()"
   ]
  },
  {
   "cell_type": "code",
   "execution_count": null,
   "id": "e72e1a65",
   "metadata": {},
   "outputs": [],
   "source": []
  }
 ],
 "metadata": {
  "kernelspec": {
   "display_name": "Python 3",
   "language": "python",
   "name": "python3"
  },
  "language_info": {
   "codemirror_mode": {
    "name": "ipython",
    "version": 3
   },
   "file_extension": ".py",
   "mimetype": "text/x-python",
   "name": "python",
   "nbconvert_exporter": "python",
   "pygments_lexer": "ipython3",
   "version": "3.8.8"
  }
 },
 "nbformat": 4,
 "nbformat_minor": 5
}
